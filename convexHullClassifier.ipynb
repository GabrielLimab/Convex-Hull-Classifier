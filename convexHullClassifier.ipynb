{
  "cells": [
    {
      "cell_type": "markdown",
      "metadata": {},
      "source": [
        "# Classificação em aprendizado de máquina supervisionado com geometria computacional\n",
        "    Gabriel Lima Barros - 2020006531\n",
        "    Gabriel Teixeira Carvalho - 2020006558\n",
        "    Thiago Pádua de Carvalho - 2020007066\n",
        "\n",
        "Este trabalho lida com o problema de implementar um classificador utilizando aprendizado de máquina supervisionado. \n",
        "\n",
        "O objetivo principal desta tarefa é criar um programa que, dado um conjunto de dados com 2 colunas de atributos e 1 coluna de classe, consiga classificar novos dados em uma das duas classes disponíveis. \n",
        "\n",
        "Para resolver o problema citado, foram utilizados algoritmos de geometria computacional aprendidos na disciplina de Algoritmos II.\n",
        "\n",
        "Ao longo deste notebook, serão apresentadas as implementações dos algoritmos utilizados para a solução do problema. Além disso, serão apresentados os resultados obtidos com a execução do programa, utilizando métricas comuns em aprendizado de máquina. Por fim, serão apresentadas as conclusões (e possíveis melhorias para o programa)?."
      ]
    },
    {
      "cell_type": "markdown",
      "metadata": {},
      "source": [
        "### Importando as bibliotecas"
      ]
    },
    {
      "cell_type": "code",
      "execution_count": null,
      "metadata": {},
      "outputs": [],
      "source": [
        "from random import random, choice\n",
        "from functools import cmp_to_key\n",
        "from bintrees import RBTree\n",
        "import matplotlib.pyplot as plt\n",
        "import numpy as np\n",
        "import pandas as pd\n",
        "from sklearn.model_selection import StratifiedKFold\n",
        "from sklearn.metrics import precision_recall_fscore_support"
      ]
    },
    {
      "cell_type": "markdown",
      "metadata": {},
      "source": [
        "### Implementação do Graham Scan (Envoltória Convexa)"
      ]
    },
    {
      "cell_type": "markdown",
      "metadata": {},
      "source": [
        "Primeiro, definimos uma classe que representa um ponto no plano cartesiano. Essa classe possui os atributos x e y, que representam as coordenadas do ponto."
      ]
    },
    {
      "cell_type": "code",
      "execution_count": null,
      "metadata": {
        "id": "DdUbQadXyvPO"
      },
      "outputs": [],
      "source": [
        "class Point:\n",
        "  def __init__(self, x, y):\n",
        "    self.x = x\n",
        "    self.y = y\n",
        "    self.isLeftEndpoint = False\n",
        "    self.segmentId = None\n",
        "  \n",
        "  def __str__(self):\n",
        "    return \"(\" + str(self.x) + \", \" + str(self.y) + \")\"\n",
        "\n",
        "def printPointList(points):\n",
        "  for p in points:\n",
        "    print(p, end=\" \")\n",
        "  print()"
      ]
    },
    {
      "cell_type": "markdown",
      "metadata": {},
      "source": [
        "Definimos uma função que calcula a orientação de três pontos. Essa função recebe três pontos (p0, p1 e p2) e retorna uma string representando a orientação dos segmentos *p0-p1* e *p0-p2*. Se a orientação for \"left\", então os três pontos estão em sentido anti-horário. Se a orientação for \"right\", então os três pontos estão em sentido horário. Se a orientação for \"collinear\", então os três pontos estão colineares."
      ]
    },
    {
      "cell_type": "code",
      "execution_count": null,
      "metadata": {},
      "outputs": [],
      "source": [
        "def findOrientation(p0, p1, p2):\n",
        "  crossProduct = (p1.x - p0.x) * (p2.y - p0.y) - (p2.x - p0.x) * (p1.y - p0.y)\n",
        "  if crossProduct == 0:\n",
        "    return \"collinear\"\n",
        "  elif crossProduct > 0:\n",
        "    return \"right\"\n",
        "  else:\n",
        "    return \"left\""
      ]
    },
    {
      "cell_type": "markdown",
      "metadata": {},
      "source": [
        "Definimos uma função que encontra o ponto com menor coordenada y. Essa função recebe um conjunto de pontos e retorna o ponto com menor coordenada y. Caso haja mais de um ponto com a menor coordenada y, então o ponto com menor coordenada x é retornado."
      ]
    },
    {
      "cell_type": "code",
      "execution_count": null,
      "metadata": {},
      "outputs": [],
      "source": [
        "def findBottomMostPoint(points):\n",
        "  bottomMostPoint = points[0]\n",
        "\n",
        "  for p in points:\n",
        "    if p.y < bottomMostPoint.y or (p.y == bottomMostPoint.y and p.x < bottomMostPoint.x):\n",
        "      bottomMostPoint = p\n",
        "\n",
        "  return bottomMostPoint"
      ]
    },
    {
      "cell_type": "markdown",
      "metadata": {},
      "source": [
        "Definimos uma função que ordena os pontos de um conjunto de pontos. Essa função recebe um conjunto de pontos e retorna uma lista de pontos ordenados em ordem."
      ]
    },
    {
      "cell_type": "code",
      "execution_count": null,
      "metadata": {},
      "outputs": [],
      "source": [
        "def findDistance(p0, p1):\n",
        "  return ((p1.x - p0.x) ** 2 + (p1.y - p0.y) ** 2) ** 0.5\n",
        "\n",
        "def sortPoints(points, bottomMostPoint):\n",
        "  def comparePolarAngle(p1, p2):\n",
        "    orientation = findOrientation(bottomMostPoint, p1, p2)\n",
        "    if orientation == \"collinear\":\n",
        "      if findDistance(bottomMostPoint, p1) <= findDistance(bottomMostPoint, p2):\n",
        "        return -1\n",
        "      else:\n",
        "        return 1\n",
        "    elif orientation == \"right\":\n",
        "      return -1\n",
        "    else:\n",
        "      return 1\n",
        "  sortedPoints = sorted(points, key = cmp_to_key(comparePolarAngle))\n",
        "  return sortedPoints\n",
        "\n",
        "def removeCollinearPoints(sortedPoints,bottomMostPoint):\n",
        "  i = 0\n",
        "  while i < len(sortedPoints) - 1:\n",
        "    if findOrientation(bottomMostPoint, sortedPoints[i], sortedPoints[i + 1]) == \"collinear\":\n",
        "      sortedPoints.pop(i)\n",
        "    else:\n",
        "      i += 1"
      ]
    },
    {
      "cell_type": "markdown",
      "metadata": {},
      "source": [
        "Definimos uma função que retorna os pontos de um conjunto que formam a envoltória convexa desse conjunto. Para isso foi usado o algoritmo da Varredura de Graham."
      ]
    },
    {
      "cell_type": "code",
      "execution_count": null,
      "metadata": {},
      "outputs": [],
      "source": [
        "def findConvexHull(points):\n",
        "    bottomMostPoint = findBottomMostPoint(points)\n",
        "    points.remove(bottomMostPoint)\n",
        "    sortedPoints = sortPoints(points, bottomMostPoint)\n",
        "    removeCollinearPoints(sortedPoints, bottomMostPoint)\n",
        "    sortedPoints = [bottomMostPoint] + sortedPoints\n",
        "\n",
        "    if len(sortedPoints) < 3:\n",
        "      print(\"Convex hull is not possible!\")\n",
        "\n",
        "    convexHull = [sortedPoints[0], sortedPoints[1], sortedPoints[2]]\n",
        "    for i in range(3, len(sortedPoints)):\n",
        "        while findOrientation(convexHull[-2], convexHull[-1], sortedPoints[i]) != \"right\":\n",
        "            convexHull.pop()\n",
        "        convexHull.append(sortedPoints[i])\n",
        "    return convexHull"
      ]
    },
    {
      "cell_type": "markdown",
      "metadata": {},
      "source": [
        "### Implementação Interceptação de Segmentos entre Conjuntos\n",
        "Uma vez que temos os pontos que fazem parte da envoltória convexa precisamos transformá-los em segmentos, para isso foi definida uma classe para representar segmetos em um plano cartesiano e uma função que recebe os pontos que fazem parte de uma envoltória convexa e retorna os segmentos que limitam essa envoltória. Dentro da classe sobrescrevemos alguns operadores para possibilitar a inserção na árvore vermelho e preto, posteriormente, dessa forma os segmentos serão avaliados de acordo com a altura que ele se encontra no plano em comparação com os outros segmentos da árvore."
      ]
    },
    {
      "cell_type": "code",
      "execution_count": null,
      "metadata": {},
      "outputs": [],
      "source": [
        "def onSegment(p1, p2, p3):\n",
        "    if ((p3.x <= p2.x and p3.x >= p1.x) or (p3.x <= p1.x and p3.x >= p2.x)):\n",
        "        if ((p3.y <= p2.y and p3.y >= p1.y) or (p3.y <= p1.y and p3.y >= p2.y)):\n",
        "            return True\n",
        "    return False\n",
        "\n",
        "def segmentsIntersect(p1, p2, p3, p4):\n",
        "    d1 = findOrientation(p3, p4, p1)\n",
        "    d2 = findOrientation(p3, p4, p2)\n",
        "    d3 = findOrientation(p1, p2, p3)\n",
        "    d4 = findOrientation(p1, p2, p4)\n",
        "\n",
        "    if ((d1 == 'right' and d2 == 'left') or (d1 == 'left' and d2 == 'right')) and ((d3 == 'right' and d4 == 'left') or (d3 == 'left' and d4 == 'right')): \n",
        "        return True\n",
        "    elif d1 == 'collinear'and onSegment(p3,p4,p1):\n",
        "        return True\n",
        "    elif d2 == 'collinear'and onSegment(p3,p4,p2):\n",
        "        return True\n",
        "    elif d3 == 'collinear'and onSegment(p1,p2,p3):\n",
        "        return True\n",
        "    elif d4 == 'collinear'and onSegment(p1,p2,p4):\n",
        "        return True\n",
        "    else:\n",
        "        return False\n"
      ]
    },
    {
      "cell_type": "code",
      "execution_count": null,
      "metadata": {},
      "outputs": [],
      "source": [
        "class Segment:\n",
        "    def __init__(self, id, p1, p2, convexHullLabel):\n",
        "        if p1.x < p2.x:\n",
        "            self.p1 = Point(p1.x, p1.y)\n",
        "            self.p2 = Point(p2.x, p2.y)\n",
        "        else:\n",
        "            self.p1 = Point(p2.x, p2.y)\n",
        "            self.p2 = Point(p1.x, p1.y)\n",
        "        self.p1.isLeftEndpoint = True\n",
        "        self.p1.segmentId = id\n",
        "        self.p2.segmentId = id\n",
        "        self.convexHullLabel = convexHullLabel\n",
        "\n",
        "    def __str__(self):\n",
        "        return \"(\" + str(self.p1.x) + \", \" + str(self.p1.y) + \", \" + str(self.p1.isLeftEndpoint) + \") - (\" + str(self.p2.x) + \", \" + str(self.p2.y) + \", \" + str(self.p2.isLeftEndpoint)+ \")\" + \" \" + self.convexHullLabel\n",
        "    \n",
        "    # return if a segment is below another\n",
        "    def __gt__(self, other):\n",
        "        if (min(self.p1.x,other.p1.x)==self.p1.x):\n",
        "                b = self\n",
        "                a = other\n",
        "        else:\n",
        "            b = other\n",
        "            a = self\n",
        "        m2 = (b.p2.y - b.p1.y)/(b.p2.x - b.p1.x)\n",
        "        m1 = (a.p2.y - a.p1.y)/(a.p2.x - a.p1.x)\n",
        "\n",
        "        x0 = max(self.p1.x,other.p1.x)\n",
        "        if not (segmentsIntersect(self.p1,self.p2, other.p1,other.p2)):\n",
        "            if (findOrientation(b.p1, a.p1, b.p2) == 'right'):\n",
        "                return True if b == self else False\n",
        "            elif (findOrientation(b.p1, a.p1, b.p2) == 'left'):\n",
        "                return False if b == self else True\n",
        "        else:\n",
        "            if b.p1.y - m2 * b.p1.x - a.p1.y + m1 * a.p1.x < (m1-m2) * x0:\n",
        "                return True if b == self else False\n",
        "            else:\n",
        "                return False if b == self else True\n",
        "\n",
        "def printSegments(segments):\n",
        "    print()\n",
        "    for segment in segments:\n",
        "        print(segment)\n",
        "\n",
        "def findSegments(convexHull, convexHullLabel):\n",
        "    segments = []\n",
        "    for i in range(len(convexHull) - 1):\n",
        "        point1 = convexHull[i]\n",
        "        point2 = convexHull[i + 1]\n",
        "        segment = Segment(i, point1, point2, convexHullLabel)\n",
        "        segments.append(segment)\n",
        "    point1 = convexHull[-1]\n",
        "    point2 = convexHull[0]\n",
        "    segmentId = len(convexHull) - 1\n",
        "    segments.append(Segment(segmentId, point1, point2, convexHullLabel))\n",
        "    \n",
        "    return segments"
      ]
    },
    {
      "cell_type": "markdown",
      "metadata": {},
      "source": [
        "Com o intuito de auxiliar na varredura linear, definimos funções que checam se existem segmentos que se interceptam, utilizamos o algoritmo padrão para checar se segmentos se interceptam utilizando a função \"findOrientation\" e a função \"onSegment\" para checar se um ponto de um segmento fazia parte do outro."
      ]
    },
    {
      "cell_type": "code",
      "execution_count": null,
      "metadata": {},
      "outputs": [],
      "source": [
        "def onSegment(p1, p2, p3):\n",
        "    if ((p3.x <= p2.x and p3.x >= p1.x) or (p3.x <= p1.x and p3.x >= p2.x)):\n",
        "        if ((p3.y <= p2.y and p3.y >= p1.y) or (p3.y <= p1.y and p3.y >= p2.y)):\n",
        "            return True\n",
        "    return False\n",
        "\n",
        "def segmentsIntersect(p1, p2, p3, p4):\n",
        "    d1 = findOrientation(p3, p4, p1)\n",
        "    d2 = findOrientation(p3, p4, p2)\n",
        "    d3 = findOrientation(p1, p2, p3)\n",
        "    d4 = findOrientation(p1, p2, p4)\n",
        "\n",
        "    if ((d1 == 'right' and d2 == 'left') or (d1 == 'left' and d2 == 'right')) and ((d3 == 'right' and d4 == 'left') or (d3 == 'left' and d4 == 'right')): \n",
        "        return True\n",
        "    elif d1 == 'collinear'and onSegment(p3,p4,p1):\n",
        "        return True\n",
        "    elif d2 == 'collinear'and onSegment(p3,p4,p2):\n",
        "        return True\n",
        "    elif d3 == 'collinear'and onSegment(p1,p2,p3):\n",
        "        return True\n",
        "    elif d4 == 'collinear'and onSegment(p1,p2,p4):\n",
        "        return True\n",
        "    else:\n",
        "        return False"
      ]
    },
    {
      "cell_type": "markdown",
      "metadata": {},
      "source": [
        "Definimos funções para encontrar e ordenar os pontos finais dos segmentos da envoltória tendo o ponto final à esquerda precedência sobre o ponto final a direita."
      ]
    },
    {
      "cell_type": "code",
      "execution_count": null,
      "metadata": {},
      "outputs": [],
      "source": [
        "def findSegmentsEndpoints(segments):\n",
        "    endpoints = []\n",
        "    for segment in segments:\n",
        "        leftEndpoint = segment.p1\n",
        "        rightEndpoint = segment.p2\n",
        "\n",
        "        endpoints.append(leftEndpoint)\n",
        "        endpoints.append(rightEndpoint)\n",
        "    return endpoints\n",
        "\n",
        "def sortEndpoints(endpoints):\n",
        "    def compareEndpoints(p1, p2):\n",
        "        if p1.x < p2.x:\n",
        "            return -1\n",
        "        elif p1.x > p2.x:\n",
        "            return 1\n",
        "        else:\n",
        "            if p1.isLeftEndpoint and not p2.isLeftEndpoint:\n",
        "                return -1\n",
        "            elif not p1.isLeftEndpoint and p2.isLeftEndpoint:\n",
        "                return 1\n",
        "            else:\n",
        "                if p1.y < p2.y:\n",
        "                    return -1\n",
        "                elif p1.y > p2.y:\n",
        "                    return 1\n",
        "                else:\n",
        "                    return 0\n",
        "    sortedEndpoints = sorted(endpoints, key = cmp_to_key(compareEndpoints))\n",
        "    return sortedEndpoints"
      ]
    },
    {
      "cell_type": "markdown",
      "metadata": {},
      "source": [
        "Definimos identificadores para os segmentos para que seja possível encontrarmos os segmentos a partir do seu ponto final em tempo constante."
      ]
    },
    {
      "cell_type": "code",
      "execution_count": null,
      "metadata": {},
      "outputs": [],
      "source": [
        "def adjustBSegmentsId(segmentsB, segmentsA):\n",
        "    for segment in segmentsB:\n",
        "        segment.p1.segmentId += len(segmentsA)\n",
        "        segment.p2.segmentId += len(segmentsA)"
      ]
    },
    {
      "cell_type": "markdown",
      "metadata": {},
      "source": [
        "Fizemos perturbações nos pontos para evitar a inserção de pontos iguais e retas verticais"
      ]
    },
    {
      "cell_type": "code",
      "execution_count": null,
      "metadata": {},
      "outputs": [],
      "source": [
        "def perturbateSegments(segments):\n",
        "    for segment in segments:\n",
        "        segment.p1.x += random() * 0.000001\n",
        "        segment.p2.x += random() * 0.000001\n",
        "    return segments"
      ]
    },
    {
      "cell_type": "markdown",
      "metadata": {},
      "source": [
        "Dessa forma, definimos a função para determinar se há interseção entre segmentos de duas envoltórias diferentes, para isso utilizamos o algoritmo que determina se há interseção entre segmentos dentro de um conjunto e adaptamos, adicionando rótulos aos segmentos para definir à qual envoltória eles pertenciam, se fossem da mesma a interseção era ignorada, mas se fossem de envoltórias diferentes então deveria ser retornada a existência de uma interseção."
      ]
    },
    {
      "cell_type": "code",
      "execution_count": null,
      "metadata": {},
      "outputs": [],
      "source": [
        "def anySegmentsIntersectTree(convexHullA, convexHullB):\n",
        "    tree = RBTree()\n",
        "    AHullSegments = findSegments(convexHullA, \"A\")\n",
        "    BHullSegments = findSegments(convexHullB, \"B\")\n",
        "    adjustBSegmentsId(BHullSegments, AHullSegments)\n",
        "    allSegments = perturbateSegments(AHullSegments + BHullSegments)\n",
        "    allEndpoints = findSegmentsEndpoints(allSegments)\n",
        "    sortedEndpoints = sortEndpoints(allEndpoints)\n",
        "\n",
        "    for endpoint in sortedEndpoints:\n",
        "        if endpoint.isLeftEndpoint:\n",
        "            segment = allSegments[endpoint.segmentId]\n",
        "            tree.insert(segment, endpoint.segmentId)\n",
        "            if (tree.min_key() != segment):\n",
        "                segmentBelow = tree.prev_key(segment)\n",
        "                if (segment.convexHullLabel != segmentBelow.convexHullLabel and segmentsIntersect(segment.p1, segment.p2, segmentBelow.p1, segmentBelow.p2)):\n",
        "                    return True\n",
        "            if (tree.max_key() != segment):\n",
        "                segmentAbove = tree.succ_key(segment)\n",
        "                if (segment.convexHullLabel != segmentAbove.convexHullLabel and segmentsIntersect(segment.p1, segment.p2, segmentAbove.p1, segmentAbove.p2)):\n",
        "                    return True\n",
        "        if not endpoint.isLeftEndpoint:\n",
        "            segment = allSegments[endpoint.segmentId]\n",
        "            if (tree.min_key() != segment):\n",
        "                segmentBelow = tree.prev_key(segment)\n",
        "                if (tree.max_key() != segment):\n",
        "                    segmentAbove = tree.succ_key(segment)\n",
        "                    if (segmentBelow.convexHullLabel != segmentAbove.convexHullLabel and segmentsIntersect(segmentBelow.p1, segmentBelow.p2, segmentAbove.p1, segmentAbove.p2)):\n",
        "                        return True\n",
        "            tree.remove(segment)\n",
        "    return False"
      ]
    },
    {
      "cell_type": "code",
      "execution_count": null,
      "metadata": {},
      "outputs": [],
      "source": [
        "def contains(p,convexHull):\n",
        "    crossings = 0\n",
        "    for i in range(len(convexHull)-1):\n",
        "        slope = (convexHull[i+1].y - convexHull[i].y)/(convexHull[i+1].x - convexHull[i].x)\n",
        "        cond1 = (convexHull[i].x <= p.x) and (p.x < convexHull[i+1].x)\n",
        "        cond2 = (convexHull[i+1].x <= p.x) and (p.x < convexHull[i].x)\n",
        "        above = (p.y < slope *(p.x - convexHull[i].x) + convexHull[i].y)\n",
        "        if ((cond1 or cond2) and above ):\n",
        "            crossings += 1\n",
        "    return crossings % 2 != 0"
      ]
    },
    {
      "cell_type": "markdown",
      "metadata": {},
      "source": [
        "O próximo passo foi traçar a reta que separa as duas envoltórias, para isso criamos uma função que encontra o par de pontos mais próximo entre as envoltórias e calculamos a reta mediatriz do segmento formado por esses dois pontos. Essa reta intercepta o segmento formado pelos dois pontos de forma perpendicular, separando os pontos se não houver interseção."
      ]
    },
    {
      "cell_type": "code",
      "execution_count": null,
      "metadata": {},
      "outputs": [],
      "source": [
        "def findClosestPairOfPoints(convexHullA, convexHullB):\n",
        "    closestDistance = float(\"inf\")\n",
        "    closestPair = None\n",
        "    for i in range(len(convexHullA)):\n",
        "        for j in range(len(convexHullB)):\n",
        "            distance = findDistance(convexHullA[i], convexHullB[j])\n",
        "            if distance < closestDistance:\n",
        "                closestDistance = distance\n",
        "                closestPair = Segment(\"\", convexHullA[i], convexHullB[j], \"\")\n",
        "    return closestPair"
      ]
    },
    {
      "cell_type": "code",
      "execution_count": null,
      "metadata": {},
      "outputs": [],
      "source": [
        "def findBisector(segment, x):\n",
        "    x1 = (segment.p1.x + segment.p2.x)/2\n",
        "    y1 = (segment.p1.y + segment.p2.y)/2\n",
        "    if (segment.p2.x - segment.p1.x) == 0:\n",
        "        m = 0\n",
        "    elif (segment.p2.y - segment.p1.y) == 0:\n",
        "        return None, 'vertical', x1\n",
        "    else:\n",
        "        originalM = (segment.p2.y - segment.p1.y)/(segment.p2.x - segment.p1.x)\n",
        "        m = -1/originalM\n",
        "    y = m * (x - x1) + y1\n",
        "    b = m * -1 * x1 + y1\n",
        "    return y, 'regular', [m, b]"
      ]
    },
    {
      "cell_type": "markdown",
      "metadata": {},
      "source": [
        "### Plotagem e Avaliação do Modelo"
      ]
    },
    {
      "cell_type": "code",
      "execution_count": null,
      "metadata": {},
      "outputs": [],
      "source": [
        "def findMinX(convexHull):\n",
        "    return min(convexHull, key=lambda point: point.x).x\n",
        "\n",
        "def findMaxX(convexHull):\n",
        "    return max(convexHull, key=lambda point: point.x).x\n",
        "\n",
        "def findXInterval(convexHull):\n",
        "    diff = abs(findMaxX(convexHull) - findMinX(convexHull))\n",
        "    return (findMinX(convexHull) - diff * 0.25, findMaxX(convexHull) + diff * 0.25)\n",
        "\n",
        "def findMinY(convexHull):\n",
        "    return min(convexHull, key=lambda point: point.y).y\n",
        "\n",
        "def findMaxY(convexHull):\n",
        "    return max(convexHull, key=lambda point: point.y).y\n",
        "\n",
        "def findYInterval(convexHull):\n",
        "    diff = abs(findMaxY(convexHull) - findMinY(convexHull))\n",
        "    return (findMinY(convexHull) - diff * 0.25, findMaxY(convexHull) + diff * 0.25)\n",
        "\n",
        "def plotConvexHull(points, convexHull, color):\n",
        "    x = [point.x for point in points]\n",
        "    y = [point.y for point in points]\n",
        "    plt.scatter(x, y, color=color)\n",
        "    for i in range(len(convexHull)):\n",
        "        p1 = convexHull[i]\n",
        "        p2 = convexHull[(i + 1) % len(convexHull)]\n",
        "        plt.plot([p1.x, p2.x], [p1.y, p2.y], color, marker='o')\n",
        "\n",
        "def sortSetsByBottomLeftPoint(points, points2):\n",
        "    bottomLeftPoint = min(points + points2, key=lambda point: [point.y, point.x])\n",
        "    if bottomLeftPoint in points:\n",
        "        return points, points2\n",
        "    else:\n",
        "        return points2, points"
      ]
    },
    {
      "cell_type": "code",
      "execution_count": null,
      "metadata": {},
      "outputs": [],
      "source": [
        "def findClassPoints(df):\n",
        "    class1 = df[df.iloc[:, -1] == 0]\n",
        "    class2 = df[df.iloc[:, -1] == 1]\n",
        "    points = [Point(class1.iloc[i, 0], class1.iloc[i, 1]) for i in range(len(class1))]\n",
        "    points2 = [Point(class2.iloc[i, 0], class2.iloc[i, 1]) for i in range(len(class2))]\n",
        "\n",
        "    return points, points2"
      ]
    },
    {
      "cell_type": "code",
      "execution_count": null,
      "metadata": {},
      "outputs": [],
      "source": [
        "def findModel(df):\n",
        "    points, points2 = findClassPoints(df)\n",
        "    points, points2 = sortSetsByBottomLeftPoint(points, points2)\n",
        "    convexHullA = findConvexHull(points)\n",
        "    convexHullB = findConvexHull(points2)\n",
        "    \n",
        "    xInterval = findXInterval(convexHullA + convexHullB)\n",
        "    closestPair = findClosestPairOfPoints(convexHullA, convexHullB)\n",
        "    x = np.linspace(xInterval[0], xInterval[1], 100)\n",
        "    y, orientation, equation = findBisector(closestPair, x)\n",
        "\n",
        "    return orientation, equation"
      ]
    },
    {
      "cell_type": "code",
      "execution_count": null,
      "metadata": {},
      "outputs": [],
      "source": [
        "def findAndPlotModel(df, title):\n",
        "    points, points2 = findClassPoints(df)\n",
        "    points, points2 = sortSetsByBottomLeftPoint(points, points2)\n",
        "    convexHullA = findConvexHull(points)\n",
        "    convexHullB = findConvexHull(points2)\n",
        "\n",
        "    if(anySegmentsIntersectTree(convexHullA, convexHullB) == True):\n",
        "        print(\"As envoltórias convexas se interceptam, portanto, os conjuntos não são linearmente separáveis.\")\n",
        "    elif(contains(convexHullA[0],convexHullB) or contains(convexHullB[0],convexHullA)):\n",
        "        print(\"As envoltórias convexas se sobrepõem, portanto, os conjuntos não são linearmente separáveis.\")\n",
        "    else:\n",
        "        print(\"As envoltórias convexas não se interceptam, portanto, os conjuntos são linearmente separáveis.\")\n",
        "    \n",
        "    xInterval = findXInterval(convexHullA + convexHullB)\n",
        "    yInterval = findYInterval(convexHullA + convexHullB)\n",
        "    closestPair = findClosestPairOfPoints(convexHullA, convexHullB)\n",
        "    x = np.linspace(xInterval[0], xInterval[1], 100)\n",
        "    y, orientation, equation = findBisector(closestPair, x)\n",
        "    \n",
        "    fig, ax = plt.subplots(figsize=(16, 10), dpi=160)\n",
        "    plotConvexHull(points, convexHullA, 'r')\n",
        "    plotConvexHull(points2, convexHullB, 'b')\n",
        "    ax.plot([closestPair.p1.x, closestPair.p2.x], [closestPair.p1.y, closestPair.p2.y], 'k', marker='o')\n",
        "    if orientation == 'vertical':\n",
        "        text = \"Equação da reta: x = \" + str(round(equation, 4))\n",
        "        ax.axvline(x=equation, color='g')\n",
        "    else:\n",
        "        text = \"Equação da reta: y = \" + str(round(equation[0], 4)) + \"x + \" + str(round(equation[1], 4))\n",
        "        ax.plot(x, y, 'g')\n",
        "    ax.set_title(title, fontsize=20)\n",
        "    textX = xInterval[0] + (xInterval[1] - xInterval[0]) * 0.025\n",
        "    textY = yInterval[1] - (yInterval[1] - yInterval[0]) * 0.1\n",
        "    ax.text(textX, textY, text, color='g', fontsize=16)\n",
        "    ax.set_xlabel('X', fontsize=16)\n",
        "    ax.set_ylabel('Y', fontsize=16)\n",
        "    ax.set_xlim(xInterval)\n",
        "    ax.set_ylim(yInterval)\n",
        "    ax.tick_params(axis='both', which='major', labelsize=16)"
      ]
    },
    {
      "cell_type": "code",
      "execution_count": null,
      "metadata": {},
      "outputs": [],
      "source": [
        "def classifyPoint(point, orientation, equation):\n",
        "    if orientation == 'vertical':\n",
        "        return 1 if point.x > equation else 0\n",
        "    else:\n",
        "        if(point.y == equation[0] * point.x + equation[1]):\n",
        "            return choice([0, 1])\n",
        "        return 1 if point.y > equation[0] * point.x + equation[1] else 0"
      ]
    },
    {
      "cell_type": "code",
      "execution_count": null,
      "metadata": {},
      "outputs": [],
      "source": [
        "def readDatFile(fileName, separator=','):\n",
        "    resultingDF = pd.read_csv(fileName, sep=separator, engine='python')\n",
        "    return resultingDF\n"
      ]
    },
    {
      "cell_type": "markdown",
      "metadata": {},
      "source": [
        "Por último definimos uma função para avaliar o modelo criado."
      ]
    },
    {
      "cell_type": "code",
      "execution_count": null,
      "metadata": {},
      "outputs": [],
      "source": [
        "def evaluateModel(df):\n",
        "    print(\"Avaliação do modelo:\")\n",
        "    skf = StratifiedKFold(n_splits=5, shuffle=False)\n",
        "    fold = 1\n",
        "    for train_index, test_index in skf.split(df.iloc[:, :-1], df.iloc[:, -1]):\n",
        "        train = df.iloc[train_index]\n",
        "        test = df.iloc[test_index]\n",
        "        orientation, equation = findModel(train)\n",
        "        yTrue = df.iloc[test_index, -1]\n",
        "        yPred = []\n",
        "        for i in range(len(test)):\n",
        "            point = Point(test.iloc[i, 0], test.iloc[i, 1])\n",
        "            yPred.append(classifyPoint(point, orientation, equation))\n",
        "        precision, recall, f_score, support = precision_recall_fscore_support(yTrue, yPred, average='micro')\n",
        "        print(\"Fold: \" + str(fold))\n",
        "        print(\"\\tPrecisão: \" + str(precision))\n",
        "        print(\"\\tRevocação: \" + str(recall))\n",
        "        print(\"\\tF-Score: \" + str(f_score))\n",
        "        fold += 1\n",
        "            "
      ]
    },
    {
      "cell_type": "markdown",
      "metadata": {},
      "source": [
        "### Experimentos:"
      ]
    },
    {
      "cell_type": "code",
      "execution_count": null,
      "metadata": {},
      "outputs": [],
      "source": [
        "samplePoints1 = {  \n",
        "    'X': [0, 1, 4, 0, 3, 3, 3.5, -2, 0, 1, 4, 0, 3, 3, 3.5, -2], \n",
        "    'Y': [3, 2, 4, 0, 1, 3, 2, 1, 8, 7, 9, 6, 6, 8, 7, 6],\n",
        "    'Class': [0, 0, 0, 0, 0, 0, 0, 0, 1, 1, 1, 1, 1, 1, 1, 1]\n",
        "}\n",
        "\n",
        "sample1 = pd.DataFrame(samplePoints1)\n",
        "\n",
        "findAndPlotModel(sample1, \"Sample Dataset 1\")"
      ]
    },
    {
      "cell_type": "code",
      "execution_count": null,
      "metadata": {},
      "outputs": [],
      "source": [
        "evaluateModel(sample1)"
      ]
    },
    {
      "cell_type": "code",
      "execution_count": null,
      "metadata": {},
      "outputs": [],
      "source": [
        "samplePoints2 = {\n",
        "    'X': [0, 1, 4, 0, 4, 3, 3.5, -2, 7, 8, 11, 7, 10, 10, 10.5, 5],\n",
        "    'Y': [3, 2, 4, 0, 1, 3, 2, 1, 3, 2, 4, 0, 1, 3, 2, 1],\n",
        "    'Class': [0, 0, 0, 0, 0, 0, 0, 0, 1, 1, 1, 1, 1, 1, 1, 1]\n",
        "}\n",
        "\n",
        "sample2 = pd.DataFrame(samplePoints2)\n",
        "\n",
        "findAndPlotModel(sample2, \"Sample Dataset 2\")"
      ]
    },
    {
      "cell_type": "code",
      "execution_count": null,
      "metadata": {},
      "outputs": [],
      "source": [
        "evaluateModel(sample2)"
      ]
    },
    {
      "cell_type": "markdown",
      "metadata": {},
      "source": [
        "Experimento Banana"
      ]
    },
    {
      "cell_type": "code",
      "execution_count": null,
      "metadata": {},
      "outputs": [],
      "source": [
        "banana = readDatFile('datFiles/banana.dat', ',')\n",
        "\n",
        "banana = banana.replace({'Class': {-1.0: 0, 1.0: 1}})\n",
        "\n",
        "findAndPlotModel(banana, \"Banana Dataset\")\n"
      ]
    },
    {
      "cell_type": "code",
      "execution_count": null,
      "metadata": {},
      "outputs": [],
      "source": [
        "evaluateModel(banana)"
      ]
    },
    {
      "cell_type": "markdown",
      "metadata": {},
      "source": [
        "Experimento Iris"
      ]
    },
    {
      "cell_type": "code",
      "execution_count": null,
      "metadata": {},
      "outputs": [],
      "source": [
        "iris = readDatFile('datFiles/iris.dat', ', ')\n",
        "\n",
        "iris = iris.replace({'Class': {'Iris-setosa': 0, 'Iris-versicolor': 1, 'Iris-virginica': 2}})\n",
        "iris = iris[iris['Class'] != 2]\n",
        "iris = pd.DataFrame({'X': iris['SepalLength'], 'Y': iris['SepalWidth'], 'Class': iris['Class']})\n",
        "\n",
        "findAndPlotModel(iris, \"Iris Dataset\")"
      ]
    },
    {
      "cell_type": "code",
      "execution_count": null,
      "metadata": {},
      "outputs": [],
      "source": [
        "evaluateModel(iris)"
      ]
    },
    {
      "cell_type": "markdown",
      "metadata": {},
      "source": [
        "Experimento Anel"
      ]
    },
    {
      "cell_type": "code",
      "execution_count": null,
      "metadata": {},
      "outputs": [],
      "source": [
        "ring = readDatFile('datFiles/ring.dat', ', ')\n",
        "\n",
        "ring = pd.DataFrame({'X': ring['A12'], 'Y': ring['A19'], 'Class': ring['Class']})\n",
        "\n",
        "findAndPlotModel(ring, \"Ring Dataset\")"
      ]
    },
    {
      "cell_type": "code",
      "execution_count": null,
      "metadata": {},
      "outputs": [],
      "source": [
        "evaluateModel(ring)"
      ]
    }
  ],
  "metadata": {
    "colab": {
      "authorship_tag": "ABX9TyNNUuqetcW/K10hyeEWuiw7",
      "collapsed_sections": [],
      "include_colab_link": true,
      "private_outputs": true,
      "provenance": []
    },
    "kernelspec": {
      "display_name": "Python 3.8.10 64-bit",
      "language": "python",
      "name": "python3"
    },
    "language_info": {
      "codemirror_mode": {
        "name": "ipython",
        "version": 3
      },
      "file_extension": ".py",
      "mimetype": "text/x-python",
      "name": "python",
      "nbconvert_exporter": "python",
      "pygments_lexer": "ipython3",
      "version": "3.8.10"
    },
    "vscode": {
      "interpreter": {
        "hash": "916dbcbb3f70747c44a77c7bcd40155683ae19c65e1c03b4aa3499c5328201f1"
      }
    }
  },
  "nbformat": 4,
  "nbformat_minor": 0
}
