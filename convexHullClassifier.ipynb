{
  "cells": [
    {
      "cell_type": "code",
      "execution_count": null,
      "metadata": {
        "id": "DdUbQadXyvPO"
      },
      "outputs": [],
      "source": [
        "class Point:\n",
        "  def __init__(self, x, y):\n",
        "    self.x = x\n",
        "    self.y = y\n",
        "\n",
        "def printPointList(points):\n",
        "  print()\n",
        "  for p in points:\n",
        "    printPoint(p)\n",
        "\n",
        "def printPoint(point):\n",
        "  print(\"(\", point.x, \", \", point.y, \")\", sep=\"\", end=\" \")\n",
        "\n",
        "def receiveInput():\n",
        "    inputPoints = input().split()\n",
        "\n",
        "    points = []\n",
        "\n",
        "    for i in range(0, len(inputPoints) - 1, 2):\n",
        "      points.append(Point(int(inputPoints[i]), int(inputPoints[i + 1])))\n",
        "\n",
        "# points = receiveInput()\n",
        "\n",
        "points = [(0, 3), (1, 2), (4, 4), (0, 0), (3, 1), (3, 3), (4, 2), (-2, 1)]\n",
        "\n",
        "points = [Point(x, y) for x, y in points]"
      ]
    },
    {
      "cell_type": "code",
      "execution_count": null,
      "metadata": {},
      "outputs": [],
      "source": [
        "def findBottomMostPoint(points):\n",
        "  bottomMostPoint = points[0]\n",
        "\n",
        "  for p in points:\n",
        "    if p.y < bottomMostPoint.y or (p.y == bottomMostPoint.y and p.x < bottomMostPoint.x):\n",
        "      bottomMostPoint = p\n",
        "\n",
        "  return bottomMostPoint\n",
        "\n",
        "bottomMostPoint = findBottomMostPoint(points) \n",
        "printPoint(bottomMostPoint)\n",
        "\n",
        "printPointList(points)\n",
        "points.remove(bottomMostPoint)\n",
        "printPointList(points)"
      ]
    },
    {
      "cell_type": "code",
      "execution_count": null,
      "metadata": {},
      "outputs": [],
      "source": [
        "from functools import cmp_to_key\n",
        "\n",
        "def findOrientation(p0, p1, p2):\n",
        "  crossProduct = (p1.x - p0.x) * (p2.y - p0.y) - (p2.x - p0.x) * (p1.y - p0.y)\n",
        "  if crossProduct == 0:\n",
        "    return \"collinear\"\n",
        "  elif crossProduct > 0:\n",
        "    return \"right\"\n",
        "  else:\n",
        "    return \"left\"\n",
        "\n",
        "def findDistance(p0, p1):\n",
        "  return ((p1.x - p0.x) ** 2 + (p1.y - p0.y) ** 2) ** 0.5\n",
        "\n",
        "def compare(p1, p2):\n",
        "  orientation = findOrientation(bottomMostPoint, p1, p2)\n",
        "  if orientation == \"collinear\":\n",
        "    if findDistance(bottomMostPoint, p1) <= findDistance(bottomMostPoint, p2):\n",
        "      return -1\n",
        "    else:\n",
        "      return 1\n",
        "  elif orientation == \"right\":\n",
        "    return -1\n",
        "  else:\n",
        "    return 1\n",
        "\n",
        "sortedPoints = sorted(points, key = cmp_to_key(compare))\n",
        "\n",
        "def removeCollinearPoints(sortedPoints):\n",
        "  i = 0\n",
        "  while i < len(sortedPoints) - 1:\n",
        "    if findOrientation(bottomMostPoint, sortedPoints[i], sortedPoints[i + 1]) == \"collinear\":\n",
        "      sortedPoints.pop(i)\n",
        "    else:\n",
        "      i += 1\n",
        "\n",
        "removeCollinearPoints(sortedPoints)\n",
        "printPointList(sortedPoints)\n",
        "\n",
        "sortedPoints = [bottomMostPoint] + sortedPoints\n",
        "printPointList(sortedPoints)\n"
      ]
    },
    {
      "cell_type": "code",
      "execution_count": null,
      "metadata": {},
      "outputs": [],
      "source": [
        "def findConvexHull(sortedPoints):\n",
        "    if len(sortedPoints) < 3:\n",
        "      print(\"Convex hull is not possible!\")\n",
        "\n",
        "    convexHull = [sortedPoints[0], sortedPoints[1], sortedPoints[2]]\n",
        "    for i in range(3, len(sortedPoints)):\n",
        "        while findOrientation(convexHull[-2], convexHull[-1], sortedPoints[i]) != \"right\":\n",
        "            convexHull.pop()\n",
        "        convexHull.append(sortedPoints[i])\n",
        "    return convexHull\n",
        "\n",
        "convexHull = findConvexHull(sortedPoints)\n",
        "printPointList(convexHull)"
      ]
    }
  ],
  "metadata": {
    "colab": {
      "authorship_tag": "ABX9TyNNUuqetcW/K10hyeEWuiw7",
      "collapsed_sections": [],
      "include_colab_link": true,
      "private_outputs": true,
      "provenance": []
    },
    "kernelspec": {
      "display_name": "Python 3.9.12 ('base')",
      "language": "python",
      "name": "python3"
    },
    "language_info": {
      "codemirror_mode": {
        "name": "ipython",
        "version": 3
      },
      "file_extension": ".py",
      "mimetype": "text/x-python",
      "name": "python",
      "nbconvert_exporter": "python",
      "pygments_lexer": "ipython3",
      "version": "3.9.12"
    },
    "vscode": {
      "interpreter": {
        "hash": "e06ff7da33dc9620448857a90ad8b5f428f0d573d205a934d2841c8aee45ea32"
      }
    }
  },
  "nbformat": 4,
  "nbformat_minor": 0
}
