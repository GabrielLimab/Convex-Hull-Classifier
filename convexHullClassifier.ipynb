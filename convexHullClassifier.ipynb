{
  "cells": [
    {
      "cell_type": "code",
      "execution_count": null,
      "metadata": {
        "id": "DdUbQadXyvPO"
      },
      "outputs": [],
      "source": [
        "class Point:\n",
        "  def __init__(self, x, y):\n",
        "    self.x = x\n",
        "    self.y = y\n",
        "\n",
        "def printPointList(points):\n",
        "  print()\n",
        "  for p in points:\n",
        "    printPoint(p)\n",
        "\n",
        "def printPoint(point):\n",
        "  print(\"(\", point.x, \", \", point.y, \")\", sep=\"\", end=\" \")\n",
        "\n",
        "def receiveInput():\n",
        "    inputPoints = input().split()\n",
        "\n",
        "    points = []\n",
        "\n",
        "    for i in range(0, len(inputPoints) - 1, 2):\n",
        "      points.append(Point(int(inputPoints[i]), int(inputPoints[i + 1])))\n",
        "\n",
        "# points = receiveInput()\n",
        "\n",
        "points = [(0, 3), (1, 2), (4, 4), (0, 0), (3, 1), (3, 3), (4, 2), (-2, 1)]\n",
        "\n",
        "points = [Point(x, y) for x, y in points]"
      ]
    }
  ],
  "metadata": {
    "colab": {
      "authorship_tag": "ABX9TyNNUuqetcW/K10hyeEWuiw7",
      "collapsed_sections": [],
      "include_colab_link": true,
      "private_outputs": true,
      "provenance": []
    },
    "kernelspec": {
      "display_name": "Python 3.9.12 ('base')",
      "language": "python",
      "name": "python3"
    },
    "language_info": {
      "codemirror_mode": {
        "name": "ipython",
        "version": 3
      },
      "file_extension": ".py",
      "mimetype": "text/x-python",
      "name": "python",
      "nbconvert_exporter": "python",
      "pygments_lexer": "ipython3",
      "version": "3.9.12"
    },
    "vscode": {
      "interpreter": {
        "hash": "e06ff7da33dc9620448857a90ad8b5f428f0d573d205a934d2841c8aee45ea32"
      }
    }
  },
  "nbformat": 4,
  "nbformat_minor": 0
}
