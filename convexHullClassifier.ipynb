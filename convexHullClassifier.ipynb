{
  "cells": [
    {
      "cell_type": "code",
      "execution_count": null,
      "metadata": {
        "id": "DdUbQadXyvPO"
      },
      "outputs": [],
      "source": [
        "class Point:\n",
        "  def __init__(self, x, y):\n",
        "    self.x = x\n",
        "    self.y = y\n",
        "    self.isLeftEndpoint = False\n",
        "    self.segmentId = None\n",
        "  \n",
        "  def __str__(self):\n",
        "    return \"(\" + str(self.x) + \", \" + str(self.y) + \")\"\n",
        "\n",
        "def printPointList(points):\n",
        "  for p in points:\n",
        "    print(p, end=\" \")\n",
        "  print()\n",
        "\n",
        "def receiveInput():\n",
        "    inputPoints = input().split()\n",
        "\n",
        "    points = []\n",
        "\n",
        "    for i in range(0, len(inputPoints) - 1, 2):\n",
        "      points.append(Point(int(inputPoints[i]), int(inputPoints[i + 1])))\n",
        "\n",
        "# points = receiveInput()\n",
        "\n",
        "points = [(0, 3), (1, 2), (4, 4), (0, 0), (3, 1), (3, 3), (3.5, 2), (-2, 1)]\n",
        "points = [Point(x, y) for x, y in points]\n",
        "\n",
        "points2 = [(0, 8), (1, 7), (4, 9), (0, 5), (3, 6), (3, 8), (3.5, 7), (-2, 6)]\n",
        "points2 = [Point(x, y) for x, y in points2]"
      ]
    },
    {
      "cell_type": "code",
      "execution_count": null,
      "metadata": {},
      "outputs": [],
      "source": [
        "def findBottomMostPoint(points):\n",
        "  bottomMostPoint = points[0]\n",
        "\n",
        "  for p in points:\n",
        "    if p.y < bottomMostPoint.y or (p.y == bottomMostPoint.y and p.x < bottomMostPoint.x):\n",
        "      bottomMostPoint = p\n",
        "\n",
        "  return bottomMostPoint"
      ]
    },
    {
      "cell_type": "code",
      "execution_count": null,
      "metadata": {},
      "outputs": [],
      "source": [
        "from functools import cmp_to_key\n",
        "\n",
        "def findOrientation(p0, p1, p2):\n",
        "  crossProduct = (p1.x - p0.x) * (p2.y - p0.y) - (p2.x - p0.x) * (p1.y - p0.y)\n",
        "  if crossProduct == 0:\n",
        "    return \"collinear\"\n",
        "  elif crossProduct > 0:\n",
        "    return \"right\"\n",
        "  else:\n",
        "    return \"left\"\n",
        "\n",
        "def findDistance(p0, p1):\n",
        "  return ((p1.x - p0.x) ** 2 + (p1.y - p0.y) ** 2) ** 0.5\n",
        "\n",
        "def sortPoints(points, bottomMostPoint):\n",
        "  def comparePolarAngle(p1, p2):\n",
        "    orientation = findOrientation(bottomMostPoint, p1, p2)\n",
        "    if orientation == \"collinear\":\n",
        "      if findDistance(bottomMostPoint, p1) <= findDistance(bottomMostPoint, p2):\n",
        "        return -1\n",
        "      else:\n",
        "        return 1\n",
        "    elif orientation == \"right\":\n",
        "      return -1\n",
        "    else:\n",
        "      return 1\n",
        "  sortedPoints = sorted(points, key = cmp_to_key(comparePolarAngle))\n",
        "  return sortedPoints\n",
        "\n",
        "def removeCollinearPoints(sortedPoints,bottomMostPoint):\n",
        "  i = 0\n",
        "  while i < len(sortedPoints) - 1:\n",
        "    if findOrientation(bottomMostPoint, sortedPoints[i], sortedPoints[i + 1]) == \"collinear\":\n",
        "      sortedPoints.pop(i)\n",
        "    else:\n",
        "      i += 1"
      ]
    },
    {
      "cell_type": "code",
      "execution_count": null,
      "metadata": {},
      "outputs": [],
      "source": [
        "def findConvexHull(points):\n",
        "    bottomMostPoint = findBottomMostPoint(points)\n",
        "    points.remove(bottomMostPoint)\n",
        "    sortedPoints = sortPoints(points, bottomMostPoint)\n",
        "    removeCollinearPoints(sortedPoints, bottomMostPoint)\n",
        "    sortedPoints = [bottomMostPoint] + sortedPoints\n",
        "\n",
        "    if len(sortedPoints) < 3:\n",
        "      print(\"Convex hull is not possible!\")\n",
        "\n",
        "    convexHull = [sortedPoints[0], sortedPoints[1], sortedPoints[2]]\n",
        "    for i in range(3, len(sortedPoints)):\n",
        "        while findOrientation(convexHull[-2], convexHull[-1], sortedPoints[i]) != \"right\":\n",
        "            convexHull.pop()\n",
        "        convexHull.append(sortedPoints[i])\n",
        "    return convexHull"
      ]
    },
    {
      "cell_type": "code",
      "execution_count": null,
      "metadata": {},
      "outputs": [],
      "source": [
        "convexHullA = findConvexHull(points)\n",
        "convexHullB = findConvexHull(points2)\n",
        "printPointList(convexHullA)\n",
        "printPointList(convexHullB)"
      ]
    },
    {
      "cell_type": "code",
      "execution_count": null,
      "metadata": {},
      "outputs": [],
      "source": [
        "def onSegment(p1, p2, p3):\n",
        "    if ((p3.x <= p2.x and p3.x >= p1.x) or (p3.x <= p1.x and p3.x >= p2.x)):\n",
        "        if ((p3.y <= p2.y and p3.y >= p1.y) or (p3.y <= p1.y and p3.y >= p2.y)):\n",
        "            return True\n",
        "    return False\n",
        "\n",
        "def segmentsIntersect(p1, p2, p3, p4):\n",
        "    d1 = findOrientation(p3, p4, p1)\n",
        "    d2 = findOrientation(p3, p4, p2)\n",
        "    d3 = findOrientation(p1, p2, p3)\n",
        "    d4 = findOrientation(p1, p2, p4)\n",
        "\n",
        "    if ((d1 == 'right' and d2 == 'left') or (d1 == 'left' and d2 == 'right')) and ((d3 == 'right' and d4 == 'left') or (d3 == 'left' and d4 == 'right')): \n",
        "        return True\n",
        "    elif d1 == 'collinear'and onSegment(p3,p4,p1):\n",
        "        return True\n",
        "    elif d2 == 'collinear'and onSegment(p3,p4,p2):\n",
        "        return True\n",
        "    elif d3 == 'collinear'and onSegment(p1,p2,p3):\n",
        "        return True\n",
        "    elif d4 == 'collinear'and onSegment(p1,p2,p4):\n",
        "        return True\n",
        "    else:\n",
        "        return False\n"
      ]
    },
    {
      "cell_type": "code",
      "execution_count": null,
      "metadata": {},
      "outputs": [],
      "source": [
        "class Segment:\n",
        "    def __init__(self, id, p1, p2, convexHullLabel):\n",
        "        if p1.x < p2.x:\n",
        "            self.p1 = Point(p1.x, p1.y)\n",
        "            self.p2 = Point(p2.x, p2.y)\n",
        "        else:\n",
        "            self.p1 = Point(p2.x, p2.y)\n",
        "            self.p2 = Point(p1.x, p1.y)\n",
        "        self.p1.isLeftEndpoint = True\n",
        "        self.p1.segmentId = id\n",
        "        self.p2.segmentId = id\n",
        "        self.convexHullLabel = convexHullLabel\n",
        "\n",
        "    def __str__(self):\n",
        "        return \"(\" + str(self.p1.x) + \", \" + str(self.p1.y) + \", \" + str(self.p1.isLeftEndpoint) + \") - (\" + str(self.p2.x) + \", \" + str(self.p2.y) + \", \" + str(self.p2.isLeftEndpoint)+ \")\" + \" \" + self.convexHullLabel\n",
        "\n",
        "def printSegments(segments):\n",
        "    print()\n",
        "    for segment in segments:\n",
        "        print(segment)\n",
        "\n",
        "def findSegments(convexHull, convexHullLabel):\n",
        "    segments = []\n",
        "    for i in range(len(convexHull) - 1):\n",
        "        point1 = convexHull[i]\n",
        "        point2 = convexHull[i + 1]\n",
        "        segment = Segment(i, point1, point2, convexHullLabel)\n",
        "        segments.append(segment)\n",
        "    point1 = convexHull[-1]\n",
        "    point2 = convexHull[0]\n",
        "    segmentId = len(convexHull) - 1\n",
        "    segments.append(Segment(segmentId, point1, point2, convexHullLabel))\n",
        "    \n",
        "    return segments"
      ]
    },
    {
      "cell_type": "code",
      "execution_count": null,
      "metadata": {},
      "outputs": [],
      "source": [
        "printSegments(findSegments(convexHullA, \"A\"))\n",
        "printSegments(findSegments(convexHullB, \"B\"))"
      ]
    },
    {
      "cell_type": "code",
      "execution_count": null,
      "metadata": {},
      "outputs": [],
      "source": [
        "def anySegmentsIntersect(A_Hull, B_Hull):\n",
        "    AHullSegments = findSegments(A_Hull)\n",
        "    BHullSegments = findSegments(B_Hull)\n",
        "    AHullSegments_size = len(AHullSegments)\n",
        "    BHullSegments_size = len(BHullSegments)\n",
        "    for i in range(AHullSegments_size):\n",
        "        a1 = AHullSegments[i].p1\n",
        "        a2 = AHullSegments[i].p2\n",
        "        for f in range(BHullSegments_size):\n",
        "            b1 = BHullSegments[f].p1\n",
        "            b2 = BHullSegments[f].p2\n",
        "            if (segmentsIntersect(a1, a2, b1, b2)):\n",
        "                return True\n",
        "    return False     \n",
        "        "
      ]
    },
    {
      "cell_type": "code",
      "execution_count": null,
      "metadata": {},
      "outputs": [],
      "source": [
        "anySegmentsIntersect(convexHullA, convexHullB)"
      ]
    },
    {
      "cell_type": "code",
      "execution_count": null,
      "metadata": {},
      "outputs": [],
      "source": [
        "segmentsA = findSegments(convexHullA)\n",
        "def findSegmentsEndpoints(segments):\n",
        "    endpoints = []\n",
        "    for segment in segments:\n",
        "        leftEndpoint = segment.p1\n",
        "        rightEndpoint = segment.p2\n",
        "\n",
        "        endpoints.append(segment.p1)\n",
        "        endpoints.append(segment.p2)\n",
        "    return endpoints\n",
        "\n",
        "def sortEndpoints(endpoints):\n",
        "    def compareEndpoints(p1, p2):\n",
        "        if p1.x < p2.x:\n",
        "            return -1\n",
        "        elif p1.x > p2.x:\n",
        "            return 1\n",
        "        else:\n",
        "            if p1.isLeftEndpoint and not p2.isLeftEndpoint:\n",
        "                return -1\n",
        "            elif not p1.isLeftEndpoint and p2.isLeftEndpoint:\n",
        "                return 1\n",
        "            else:\n",
        "                if p1.y < p2.y:\n",
        "                    return -1\n",
        "                elif p1.y > p2.y:\n",
        "                    return 1\n",
        "                else:\n",
        "                    return 0\n",
        "    sortedEndpoints = sorted(endpoints, key = cmp_to_key(compareEndpoints))\n",
        "    return sortedEndpoints\n",
        "\n",
        "segmentsAEndpoints = findSegmentsEndpoints(segmentsA)\n",
        "sortedSegmentsAEndpoints = sortEndpoints(segmentsAEndpoints)\n",
        "printPointList(segmentsAEndpoints)\n",
        "printPointList(sortedSegmentsAEndpoints)"
      ]
    },
    {
      "cell_type": "code",
      "execution_count": null,
      "metadata": {},
      "outputs": [],
      "source": [
        "for i in segmentsAEndpoints:\n",
        "    print(\"(\", i.x, \", \", i.y, \") \", i.isLeftEndpoint, sep=\"\")"
      ]
    }
  ],
  "metadata": {
    "colab": {
      "authorship_tag": "ABX9TyNNUuqetcW/K10hyeEWuiw7",
      "collapsed_sections": [],
      "include_colab_link": true,
      "private_outputs": true,
      "provenance": []
    },
    "kernelspec": {
      "display_name": "Python 3.9.12 ('base')",
      "language": "python",
      "name": "python3"
    },
    "language_info": {
      "codemirror_mode": {
        "name": "ipython",
        "version": 3
      },
      "file_extension": ".py",
      "mimetype": "text/x-python",
      "name": "python",
      "nbconvert_exporter": "python",
      "pygments_lexer": "ipython3",
      "version": "3.9.12"
    },
    "vscode": {
      "interpreter": {
        "hash": "e06ff7da33dc9620448857a90ad8b5f428f0d573d205a934d2841c8aee45ea32"
      }
    }
  },
  "nbformat": 4,
  "nbformat_minor": 0
}
