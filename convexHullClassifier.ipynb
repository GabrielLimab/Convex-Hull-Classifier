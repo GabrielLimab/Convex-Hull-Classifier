{
  "cells": [
    {
      "cell_type": "code",
      "execution_count": 153,
      "metadata": {
        "id": "DdUbQadXyvPO"
      },
      "outputs": [],
      "source": [
        "class Point:\n",
        "  def __init__(self, x, y):\n",
        "    self.x = x\n",
        "    self.y = y\n",
        "\n",
        "def printPointList(points):\n",
        "  print()\n",
        "  for p in points:\n",
        "    printPoint(p)\n",
        "\n",
        "def printPoint(point):\n",
        "  print(\"(\", point.x, \", \", point.y, \")\", sep=\"\", end=\" \")\n",
        "\n",
        "def receiveInput():\n",
        "    inputPoints = input().split()\n",
        "\n",
        "    points = []\n",
        "\n",
        "    for i in range(0, len(inputPoints) - 1, 2):\n",
        "      points.append(Point(int(inputPoints[i]), int(inputPoints[i + 1])))\n",
        "\n",
        "# points = receiveInput()\n",
        "\n",
        "points = [(0, 3), (1, 2), (4, 3), (0, 0), (3, 1), (3, 3), (3.5, 2), (-2, 1)]\n",
        "points = [Point(x, y) for x, y in points]\n",
        "\n",
        "points2 = [(0, 3), (1, 2), (4, 3), (0, 0), (3, 1), (3, 3), (3.5, 2), (-2, 1)]\n",
        "points2 = [Point(x, y) for x, y in points2]"
      ]
    },
    {
      "cell_type": "code",
      "execution_count": 154,
      "metadata": {},
      "outputs": [],
      "source": [
        "def findBottomMostPoint(points):\n",
        "  bottomMostPoint = points[0]\n",
        "\n",
        "  for p in points:\n",
        "    if p.y < bottomMostPoint.y or (p.y == bottomMostPoint.y and p.x < bottomMostPoint.x):\n",
        "      bottomMostPoint = p\n",
        "\n",
        "  return bottomMostPoint"
      ]
    },
    {
      "cell_type": "code",
      "execution_count": 155,
      "metadata": {},
      "outputs": [],
      "source": [
        "from functools import cmp_to_key\n",
        "\n",
        "def findOrientation(p0, p1, p2):\n",
        "  crossProduct = (p1.x - p0.x) * (p2.y - p0.y) - (p2.x - p0.x) * (p1.y - p0.y)\n",
        "  if crossProduct == 0:\n",
        "    return \"collinear\"\n",
        "  elif crossProduct > 0:\n",
        "    return \"right\"\n",
        "  else:\n",
        "    return \"left\"\n",
        "\n",
        "def findDistance(p0, p1):\n",
        "  return ((p1.x - p0.x) ** 2 + (p1.y - p0.y) ** 2) ** 0.5\n",
        "\n",
        "def sortPoints(points, bottomMostPoint):\n",
        "  def comparePolarAngle(p1, p2):\n",
        "    orientation = findOrientation(bottomMostPoint, p1, p2)\n",
        "    if orientation == \"collinear\":\n",
        "      if findDistance(bottomMostPoint, p1) <= findDistance(bottomMostPoint, p2):\n",
        "        return -1\n",
        "      else:\n",
        "        return 1\n",
        "    elif orientation == \"right\":\n",
        "      return -1\n",
        "    else:\n",
        "      return 1\n",
        "  sortedPoints = sorted(points, key = cmp_to_key(comparePolarAngle))\n",
        "  return sortedPoints\n",
        "\n",
        "def removeCollinearPoints(sortedPoints,bottomMostPoint):\n",
        "  i = 0\n",
        "  while i < len(sortedPoints) - 1:\n",
        "    if findOrientation(bottomMostPoint, sortedPoints[i], sortedPoints[i + 1]) == \"collinear\":\n",
        "      sortedPoints.pop(i)\n",
        "    else:\n",
        "      i += 1"
      ]
    },
    {
      "cell_type": "code",
      "execution_count": 156,
      "metadata": {},
      "outputs": [],
      "source": [
        "def findConvexHull(points):\n",
        "    bottomMostPoint = findBottomMostPoint(points)\n",
        "    points.remove(bottomMostPoint)\n",
        "    sortedPoints = sortPoints(points, bottomMostPoint)\n",
        "    removeCollinearPoints(sortedPoints, bottomMostPoint)\n",
        "    sortedPoints = [bottomMostPoint] + sortedPoints\n",
        "\n",
        "    if len(sortedPoints) < 3:\n",
        "      print(\"Convex hull is not possible!\")\n",
        "\n",
        "    convexHull = [sortedPoints[0], sortedPoints[1], sortedPoints[2]]\n",
        "    for i in range(3, len(sortedPoints)):\n",
        "        while findOrientation(convexHull[-2], convexHull[-1], sortedPoints[i]) != \"right\":\n",
        "            convexHull.pop()\n",
        "        convexHull.append(sortedPoints[i])\n",
        "    return convexHull"
      ]
    },
    {
      "cell_type": "code",
      "execution_count": 157,
      "metadata": {},
      "outputs": [
        {
          "name": "stdout",
          "output_type": "stream",
          "text": [
            "\n",
            "(0, 0) (3, 1) (4, 3) (0, 3) (-2, 1) \n",
            "(0, 0) (3, 1) (4, 3) (0, 3) (-2, 1) "
          ]
        }
      ],
      "source": [
        "convexHullA = findConvexHull(points)\n",
        "convexHullB = findConvexHull(points2)\n",
        "printPointList(convexHullA)\n",
        "printPointList(convexHullB)"
      ]
    },
    {
      "cell_type": "code",
      "execution_count": 158,
      "metadata": {},
      "outputs": [],
      "source": [
        "class Segment:\n",
        "    def __init__(self, p1, p2):\n",
        "        if p1.x < p2.x:\n",
        "            self.p1 = p1\n",
        "            self.p2 = p2\n",
        "        else:\n",
        "            self.p1 = p2\n",
        "            self.p2 = p1\n",
        "\n",
        "def printSegments(segments):\n",
        "    print()\n",
        "    for segment in segments:\n",
        "        printPoint(segment.p1)\n",
        "        print(\"-\", end=\" \")\n",
        "        printPoint(segment.p2)\n",
        "        print()\n",
        "\n",
        "def findSegments(convexHull):\n",
        "    segments = []\n",
        "    for i in range(len(convexHull) - 1):\n",
        "        segment = Segment(convexHull[i], convexHull[i + 1])\n",
        "        segments.append(segment)\n",
        "    segments.append(Segment(convexHull[-1], convexHull[0]))\n",
        "    \n",
        "    return segments"
      ]
    },
    {
      "cell_type": "code",
      "execution_count": 159,
      "metadata": {},
      "outputs": [],
      "source": [
        "def onSegment(p1, p2, p3):\n",
        "    if ((p3.x <= p2.x and p3.x >= p1.x) or (p3.x <= p1.x and p3.x >= p2.x)):\n",
        "        if ((p3.y <= p2.y and p3.y >= p1.y) or (p3.y <= p1.y and p3.y >= p2.y)):\n",
        "            return True\n",
        "    return False\n",
        "\n",
        "def segmentsIntersect(p1, p2, p3, p4):\n",
        "    d1 = findOrientation(p3, p4, p1)\n",
        "    d2 = findOrientation(p3, p4, p2)\n",
        "    d3 = findOrientation(p1, p2, p3)\n",
        "    d4 = findOrientation(p1, p2, p4)\n",
        "\n",
        "    if ((d1 == 'right' and d2 == 'left') or (d1 == 'left' and d2 == 'right')) and ((d3 == 'right' and d4 == 'left') or (d3 == 'left' and d4 == 'right')): \n",
        "        return True\n",
        "    elif d1 == 'collinear'and onSegment(p3,p4,p1):\n",
        "        return True\n",
        "    elif d2 == 'collinear'and onSegment(p3,p4,p2):\n",
        "        return True\n",
        "    elif d3 == 'collinear'and onSegment(p1,p2,p3):\n",
        "        return True\n",
        "    elif d4 == 'collinear'and onSegment(p1,p2,p4):\n",
        "        return True\n",
        "    else:\n",
        "        return False\n"
      ]
    },
    {
      "cell_type": "code",
      "execution_count": 160,
      "metadata": {},
      "outputs": [],
      "source": [
        "def any_segments_intersect(A_Hull, B_Hull):\n",
        "    AHullSegments = findSegments(A_Hull)\n",
        "    BHullSegments = findSegments(B_Hull)\n",
        "    AHullSegments_size = len(AHullSegments)\n",
        "    BHullSegments_size = len(BHullSegments)\n",
        "    for i in range(AHullSegments_size):\n",
        "        a1 = AHullSegments[i].p1\n",
        "        a2 = AHullSegments[i].p2\n",
        "        for f in range(BHullSegments_size):\n",
        "            b1 = BHullSegments[f].p1\n",
        "            b2 = BHullSegments[f].p2\n",
        "            if (segmentsIntersect(a1, a2, b1, b2)):\n",
        "                return True\n",
        "    return False     \n",
        "        "
      ]
    },
    {
      "cell_type": "code",
      "execution_count": 161,
      "metadata": {},
      "outputs": [
        {
          "data": {
            "text/plain": [
              "True"
            ]
          },
          "execution_count": 161,
          "metadata": {},
          "output_type": "execute_result"
        }
      ],
      "source": [
        "any_segments_intersect(convexHullA, convexHullB)"
      ]
    }
  ],
  "metadata": {
    "colab": {
      "authorship_tag": "ABX9TyNNUuqetcW/K10hyeEWuiw7",
      "collapsed_sections": [],
      "include_colab_link": true,
      "private_outputs": true,
      "provenance": []
    },
    "kernelspec": {
      "display_name": "Python 3.9.12 ('base')",
      "language": "python",
      "name": "python3"
    },
    "language_info": {
      "codemirror_mode": {
        "name": "ipython",
        "version": 3
      },
      "file_extension": ".py",
      "mimetype": "text/x-python",
      "name": "python",
      "nbconvert_exporter": "python",
      "pygments_lexer": "ipython3",
      "version": "3.9.12"
    },
    "vscode": {
      "interpreter": {
        "hash": "e06ff7da33dc9620448857a90ad8b5f428f0d573d205a934d2841c8aee45ea32"
      }
    }
  },
  "nbformat": 4,
  "nbformat_minor": 0
}
